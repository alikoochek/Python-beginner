{
 "cells": [
  {
   "cell_type": "markdown",
   "id": "1e9eeff6",
   "metadata": {},
   "source": [
    "# Understanding the alternative fuel vehicles market in the US"
   ]
  },
  {
   "cell_type": "markdown",
   "id": "b1eca362",
   "metadata": {
    "tags": [
     "4_min"
    ]
   },
   "source": [
    "## Introduction\n",
    "\n",
    "**Business Context.** You are an analyst at the ICCT ([International Council on Clean Transportation](https://theicct.org/mission-history)), an NGO that provides research to environmental authorities around the world. You are part of a team that is preparing a report on the alternative fuel vehicles (AFV) market in the United States, with a particular focus on the state of Washington.\n",
    "\n",
    "**Business Problem.** Your job is to **provide a characterization of the AFV market in the US and in Washington, including data about energy efficiency of the vehicles over time, geographical distribution, etc.**\n",
    "\n",
    "**Analytical Context.** You will be working with three Excel files that contain the raw data. The first one is  [`us_sales_fellow.xlsx`](data/us_sales_fellow.xlsx), which contains aggregated sales figures for the US; the second one is [`us_ranges_fellow.xlsx`](data/us_ranges_fellow.xlsx), which has data about ranges of electrical vehicles. These data files come from the US Department of Energy. The last one is [`washington_evs_fellow.xlsx`](data/washington_evs_fellow.xlsx), which is a census of all the electric vehicles in circulation in Washington state. This census data comes from the Washington State Department of Licensing.\n",
    "\n",
    "**Note:** For this extended case, you will need to submit one consolidated Excel file with your answers in addition to this notebook."
   ]
  },
  {
   "cell_type": "markdown",
   "id": "455a7f89",
   "metadata": {
    "tags": [
     "4_min"
    ]
   },
   "source": [
    "## Alternative fuel vehicles in the US\n",
    "\n",
    "[Alternative fuel vehicles (AFV)](https://en.wikipedia.org/wiki/Alternative_fuel_vehicle) are vehicles that run either partially or totally on an energy source that is not gasoline or diesel, such as ethanol, solar power, electricity, or hydrogen. Some AFVs are highly efficient and, perhaps more importantly, have reduced greenhouse gas emissions relative to traditional vehicles, which makes them an important part of environmental recovery and protection plans around the globe.\n",
    "\n",
    "This chart shows the distribution of light-duty AFVs in the US as of Dec. 31, 2018:\n",
    "\n",
    "![](data/images/light-duty-afv-registrat.png)\n",
    "\n",
    "**Legend:** *FFV:* Flexible fuel vehicle (cars that run on biofuels or mixtures of gas and biofuels - most of the FFVs in the US operate primarily on gasoline, see [here](https://afdc.energy.gov/vehicles/flexible_fuel.html) for more information). *HEV:* Hybrid electric vehicle. *CNG:* Compressed natural gas. *EV:* Electric vehicle. *PHEV:* Plug-in hybrid electric vehicle. PHEVs and EVs are often counted as a single category, Plug-in electric vehicles (*PEV*s). **Source:** Alternative Fuels Data Center, US Department of Energy."
   ]
  },
  {
   "cell_type": "markdown",
   "id": "1ff07066",
   "metadata": {
    "tags": [
     "10_min"
    ]
   },
   "source": [
    "### Exercise 1\n",
    "\n",
    "Write a paragraph with an interpretation of this chart in your own words."
   ]
  },
  {
   "cell_type": "markdown",
   "id": "2917612c",
   "metadata": {
    "tags": [
     "ans_st"
    ]
   },
   "source": [
    "**According to statistics released in December 2018, about 80% of AFV vehicles in the United States are FFV**"
   ]
  },
  {
   "cell_type": "markdown",
   "id": "cad0289d",
   "metadata": {},
   "source": [
    "-------"
   ]
  },
  {
   "cell_type": "markdown",
   "id": "4ceb666d",
   "metadata": {
    "tags": [
     "10_min"
    ]
   },
   "source": [
    "### Exercise 2\n",
    "\n",
    "Read this excerpt from [this page](https://afdc.energy.gov/vehicles/flexible_fuel.html) about flexible fuel vehicles:\n",
    "\n",
    "> Flexible fuel vehicles (FFVs) have an internal combustion engine and are capable of operating on gasoline and any blend of gasoline and ethanol up to 83%. E85 (or flex fuel) is a gasoline-ethanol blend containing 51% to 83% ethanol, depending on geography and season. According to IHS Markit, as of 2017, there were more than 21 million FFVs in the United States. Because FFVs are factory made and are capable of operating on gasoline and gasoline-ethanol blends, many vehicle owners don't realize their car is an FFV and that they have a choice of fuels to use.\n",
    "\n",
    "What implications does this have for your analysis?"
   ]
  },
  {
   "cell_type": "markdown",
   "id": "d0ad20e8",
   "metadata": {
    "tags": [
     "ans_st"
    ]
   },
   "source": [
    "**FFV vehicle owners may never use alternative fuel during the years they have been using their cars, so the FFV should be considered a gasoline vehicle.**"
   ]
  },
  {
   "cell_type": "markdown",
   "id": "f98fc553",
   "metadata": {},
   "source": [
    "-------"
   ]
  },
  {
   "cell_type": "markdown",
   "id": "6176d3cf",
   "metadata": {
    "tags": [
     "30_min"
    ]
   },
   "source": [
    "### Exercise 3\n",
    "\n",
    "Your team would like to know how the sales of fully electric vehicles compare to those of plug-in hybrid electric vehicles over time. Open the [`us_sales_fellow.xlsx`](data/us_sales_fellow.xlsx) file. The `models` worksheet has a list of all the models in the dataset with their type (either EV or PHEV) and the `sales` worksheet shows how many units were sold of each model in each year between 2011 and 2019. Make a pivot table that has these rows and columns (insert it in a new worksheet):\n",
    "\n",
    "![US sales pivot table](data/images/us_sales_pivot.png)\n",
    "\n",
    "**Hint:** You will need to use the `INDEX()` and `MATCH()` functions."
   ]
  },
  {
   "cell_type": "markdown",
   "id": "408cee04",
   "metadata": {
    "tags": [
     "10_min"
    ]
   },
   "source": [
    "### Exercise 4\n",
    "\n",
    "The figures you have just calculated can be represented using the below plots. Provide a paragraph in which you explain in your own words what can be inferred from them:\n",
    "\n",
    "![US sales bar plot total](data/images/us_sales_bar_total.png)\n",
    "![US sales bar plot by type](data/images/us_sales_bar_type.png)"
   ]
  },
  {
   "cell_type": "markdown",
   "id": "df9e69ad",
   "metadata": {
    "tags": [
     "ans_st"
    ]
   },
   "source": []
  },
  {
   "cell_type": "markdown",
   "id": "e6c2f6dc",
   "metadata": {},
   "source": [
    "**This chart shows that the use of electric vehicles has increased over time so their use in 2018 has almost doubled compared to the previous year.\n",
    "The use of EV vehicles is also growing more than PHEVs. The chart shows that the use of PHEV vehicles is relatively constant, but the use of EV vehicles has increased about 2.5 times.**"
   ]
  },
  {
   "cell_type": "markdown",
   "id": "7467a2f2",
   "metadata": {
    "tags": [
     "35_min"
    ]
   },
   "source": [
    "### Exercise 5 (hard)\n",
    "\n",
    "Let's now investigate the ranges of electric vehicles in the US. The range of an electric vehicle is the theoretical number of miles it can travel without needing to be recharged.\n",
    "\n",
    "The data has come to you in the [`us_ranges_fellow.xlsx`](data/us_ranges_fellow.xlsx) file. It contains range data for a number of EV models in the form of text strings. For example, `2013 Toyota - Scion Iq 038` means that the range of a Toyota Scion Iq model 2013 is 38 miles. Your job is to use Excel functions to create a table out of this data with the four columns `YEAR`, `MAKE`, `MODEL`, and `RANGE`, to end up with something like this:\n",
    "\n",
    "![Us ranges data wrangling](data/images/wrangled.png)\n",
    "\n",
    "**Hint:** Use the `FIND()`, `LEN()`, `RIGHT()`, `LEFT()`, `TRIM()`, and `VALUE()` functions to wrangle the data. Notice that all years have four characters and all ranges have three."
   ]
  },
  {
   "cell_type": "markdown",
   "id": "b9fa1e9c",
   "metadata": {
    "tags": [
     "10_min"
    ]
   },
   "source": [
    "### Exercise 6\n",
    "\n",
    "This is a histogram made with the data from Exercise 5:\n",
    "\n",
    "![Histogram of range](data/images/histogram.png)\n",
    "\n",
    "There is a gap in the interval from ~147 to ~228 miles. What does that mean? What could be causing it?"
   ]
  },
  {
   "cell_type": "markdown",
   "id": "8ac9fe77",
   "metadata": {
    "tags": [
     "ans_st"
    ]
   },
   "source": [
    "**Because Tesla is the only manufacturer whose vehicles operate in a higher range than other companies except for the Chevrolet BOLT EV, which is competitive with Tesla vehicles.**"
   ]
  },
  {
   "cell_type": "markdown",
   "id": "d58e4897",
   "metadata": {},
   "source": [
    "-------"
   ]
  },
  {
   "cell_type": "markdown",
   "id": "fabcca6b",
   "metadata": {
    "tags": [
     "10_min"
    ]
   },
   "source": [
    "### Exercise 7\n",
    "\n",
    "Do newer cars have longer ranges?"
   ]
  },
  {
   "cell_type": "markdown",
   "id": "9bf352ca",
   "metadata": {
    "tags": [
     "ans_st"
    ]
   },
   "source": [
    "**Yes, for example, vehicles produced in the years 2017 and 2018 have higher range than vehicles produced in previous years.**"
   ]
  },
  {
   "cell_type": "markdown",
   "id": "1407593c",
   "metadata": {},
   "source": [
    "-------"
   ]
  },
  {
   "cell_type": "markdown",
   "id": "ad5a3868",
   "metadata": {},
   "source": [
    "## Electric vehicle population in Washington state\n",
    "\n",
    "Let's now move on to studying the population of electric vehicles in Washington State using pivot tables. The relevant file is [`washington_evs_fellow.xlsx`](data/washington_evs_fellow.xlsx)."
   ]
  },
  {
   "cell_type": "markdown",
   "id": "e94425fc",
   "metadata": {
    "tags": [
     "7_min"
    ]
   },
   "source": [
    "### Exercise 8\n",
    "\n",
    "#### 8.1\n",
    "\n",
    "What are the 5 most popular makes in Washington?"
   ]
  },
  {
   "cell_type": "markdown",
   "id": "d2ed37dc",
   "metadata": {
    "tags": [
     "ans_st"
    ]
   },
   "source": [
    "**1. TESLA 2. NISSAN 3.CHEVROLET 4.FORD 5.KIA**"
   ]
  },
  {
   "cell_type": "markdown",
   "id": "fac6d5ce",
   "metadata": {},
   "source": [
    "-------"
   ]
  },
  {
   "cell_type": "markdown",
   "id": "9c772e20",
   "metadata": {
    "tags": [
     "7_min"
    ]
   },
   "source": [
    "#### 8.2\n",
    "\n",
    "What are the most common model years in Washington? Do this result and that of the previous exercise suggest that cars in Washington tend to have long ranges?"
   ]
  },
  {
   "cell_type": "markdown",
   "id": "98ae48ef",
   "metadata": {
    "tags": [
     "ans_st"
    ]
   },
   "source": [
    "**2018, 2019, 2020\n",
    "YES it seems**"
   ]
  },
  {
   "cell_type": "markdown",
   "id": "ee5de559",
   "metadata": {},
   "source": [
    "-------"
   ]
  },
  {
   "cell_type": "markdown",
   "id": "083a051d",
   "metadata": {
    "tags": [
     "6_min"
    ]
   },
   "source": [
    "# Exercise 9\n",
    "\n",
    "This is a histogram of vehicles in Washington state according to their ranges. Is it consistent with the hypothesis that cars there tend to have long ranges?\n",
    "\n",
    "![Histogram of ranges (Washington)](data/images/histogram_washington.png)\n",
    "\n",
    "**Note:** While the histogram you analyzed in Exercise 6 showed the distribution of ranges from a list of *models*, this histogram shows you the distribution from a list of *individual vehicles*, and therefore the two histograms are not comparable. The dataset from Exercise 6 had 65 models, while the Washington state dataset has 76,767 vehicles."
   ]
  },
  {
   "cell_type": "markdown",
   "id": "f5f2a03a",
   "metadata": {
    "tags": [
     "ans_st"
    ]
   },
   "source": [
    "No! Because the slope of the chart is negative"
   ]
  },
  {
   "cell_type": "markdown",
   "id": "57e8ea64",
   "metadata": {},
   "source": [
    "-------"
   ]
  },
  {
   "cell_type": "markdown",
   "id": "979c36ee",
   "metadata": {},
   "source": [
    "## Attribution\n",
    "\n",
    "\"Light-Duty AFV Registrations\", Aug 2020, Alternative Fuels Data Center, US Department of Energy, [Public Domain](https://www.energy.gov/about-us/web-policies), https://afdc.energy.gov/data/10861\n",
    "\n",
    "\"Electric Vehicle Population Data\", Aug 2021, Washington State Department of Licensing (DOL), [DOL Conditions of Use](https://www.dol.wa.gov/conditions.html) https://catalog.data.gov/dataset/electric-vehicle-population-data\n",
    "\n",
    "\"U.S. Plug-in Electric Vehicle Sales by Model\", Jan 2020, Alternative Fuels Data Center, US Department of Energy, [Public Domain](https://www.energy.gov/about-us/web-policies), https://afdc.energy.gov/data/10567\n",
    "\n",
    "\"Average Range and Efficiency of U.S. Electric Vehicles\", Jan 2020, Alternative Fuels Data Center, US Department of Energy, [Public Domain](https://www.energy.gov/about-us/web-policies), https://afdc.energy.gov/data/10963"
   ]
  }
 ],
 "metadata": {
  "c1_recart": "7.26.0-57c20131aabc1dc2a8c675852d80a7da",
  "kernelspec": {
   "display_name": "Python 3",
   "language": "python",
   "name": "python3"
  },
  "language_info": {
   "codemirror_mode": {
    "name": "ipython",
    "version": 3
   },
   "file_extension": ".py",
   "mimetype": "text/x-python",
   "name": "python",
   "nbconvert_exporter": "python",
   "pygments_lexer": "ipython3",
   "version": "3.8.12"
  }
 },
 "nbformat": 4,
 "nbformat_minor": 5
}
